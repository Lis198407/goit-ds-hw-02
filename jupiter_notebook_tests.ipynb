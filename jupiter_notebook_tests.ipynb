{
 "cells": [
  {
   "cell_type": "code",
   "execution_count": 6,
   "metadata": {},
   "outputs": [],
   "source": [
    "import sqlite3\n",
    "from contextlib import contextmanager\n",
    "from sqlite3 import Error\n",
    "\n",
    "database = \"./ds_hw_02.db\"\n",
    "\n",
    "@contextmanager\n",
    "def create_connection(db_file):   #creates connection to SQLite db file\n",
    "    conn = sqlite3.connect(db_file)    \n",
    "    yield conn\n",
    "    conn.rollback()\n",
    "    conn.close()\n"
   ]
  },
  {
   "cell_type": "code",
   "execution_count": 28,
   "metadata": {},
   "outputs": [],
   "source": [
    "def make_table_from_list(header_list:list,query_result:list)->str:\n",
    "    # Find the maximum width for each column\n",
    "    max_column_widths = [min(40, max(len(str(name)), max(len(str(value)) for value in column))) for name, column in zip(header_list, zip(*query_result))]\n",
    "\n",
    "    # Print table header\n",
    "    header = '| ' + ' | '.join(f'{name[:37]:<{width}}' + '...' if len(name) > 40 else f'{name:<{width}}' for name, width in zip(header_list, max_column_widths)) + ' |'\n",
    "    line = '-' * len(header)\n",
    "    message = f'{line}\\n{header}\\n{line}\\n'\n",
    "\n",
    "    # Print rows\n",
    "    for row in query_result:\n",
    "        row_str = '| ' + ' | '.join(f'{str(value)[:37]:<{width}}' + '...' if len(str(value)) > 40 else f'{str(value):<{width}}' for value, width in zip(row, max_column_widths)) + ' |'\n",
    "        message += f'{row_str}\\n'\n",
    "    return message"
   ]
  },
  {
   "cell_type": "code",
   "execution_count": 8,
   "metadata": {},
   "outputs": [
    {
     "name": "stdout",
     "output_type": "stream",
     "text": [
      "[(11, 1, 1, 'Create New Product gather information.', 'Quite guess structure drop.\\nNews box rock billion. Create move opportunity administration young language. Responsibility impact experience summer pretty.'), (12, 3, 1, 'In This Month in 3 days.', 'Single full write near above. Somebody collection ground poor be. Authority writer price wind or daughter. Seem second you though example stage war cup.'), (13, 1, 1, 'Create New Product ToDo task.', 'Business training leader current image push form. Pay language full reveal always analysis. Author finally book concern.'), (14, 1, 1, 'Minimize Costs gather information.', ''), (15, 3, 1, 'Finish Job finish project.', 'Material ahead business generation. Main great real always bag draw boy matter. Participant night truth if practice.'), (16, 3, 1, 'Todo Task finish project.', 'Event beyond much management too. Live personal from debate sound. Service very once start traditional.\\nTable another any me thought strong summer. Seem mouth on indeed.'), (17, 1, 1, 'Todo Task in 3 days.', 'Factor various somebody international adult card. Final really whether. Third eat near create.\\nWonder tough outside take whatever task rock interesting. Site another he natural final system.'), (18, 2, 1, \"Minimize Costs at monday 9 o'clock.\", 'College great sister security physical national. Teacher effect black contain discuss believe.'), (19, 2, 1, 'Achieve A Mission minimize costs.', 'Husband by long those material artist song. Traditional up those body cost.\\nI friend feel. Two oil away moment thought author seek. New reveal skill season industry.'), (20, 1, 1, 'Get The Result finish project.', 'Event its rock family. Fight century while best. Technology method yet cause wonder wife.\\nMedical weight court structure. Perform test high drop space question peace.')]\n"
     ]
    }
   ],
   "source": [
    "with create_connection(database) as conn:                              #gets all tasks\n",
    "    #Отримати всі завдання певного користувача. Використайте SELECT для отримання завдань конкретного користувача за його user_id.\n",
    "    sql = \"SELECT * FROM tasks WHERE user_id = ?;\"\n",
    "    cur = conn.cursor()\n",
    "    cur.execute(sql, (1,))            \n",
    "    print(cur.fetchall())"
   ]
  },
  {
   "cell_type": "code",
   "execution_count": 15,
   "metadata": {},
   "outputs": [
    {
     "name": "stdout",
     "output_type": "stream",
     "text": [
      "('Achieve A Mission minimize costs.', 'new')\n",
      "('Minimize Costs till the EOW.', 'new')\n",
      "(\"At Monday 9 O'Clock at monday 9 o'clock.\", 'new')\n",
      "('Create New Product gather information.', 'new')\n",
      "('Create New Product ToDo task.', 'new')\n",
      "('Minimize Costs gather information.', 'new')\n",
      "('Todo Task in 3 days.', 'new')\n",
      "('Get The Result finish project.', 'new')\n",
      "('Todo Task achieve a mission.', 'new')\n",
      "('In This Month gather information.', 'new')\n",
      "('Do morning routine', 'new')\n"
     ]
    }
   ],
   "source": [
    "#Вибрати завдання за певним статусом. Використайте підзапит для вибору завдань з конкретним статусом, наприклад, 'new'.\n",
    "# Отримати всі завдання, які ще не завершено. Виберіть завдання, чий статус не є 'завершено'.\n",
    "with create_connection(database) as conn:                              \n",
    "    notin = False\n",
    "    status = \"new\"\n",
    "    try:\n",
    "        if notin:\n",
    "            sql = \"SELECT t.title, s.name FROM tasks t JOIN status s ON t.status_id = s.id WHERE NOT s.name = ?;\"\n",
    "        else:\n",
    "            sql = \"SELECT t.title, s.name FROM tasks t JOIN status s ON t.status_id = s.id WHERE s.name = ?;\"\n",
    "        cur = conn.cursor()\n",
    "        cur.execute(sql, (status,))            \n",
    "        results = cur.fetchall()\n",
    "        message = \"\"\n",
    "        for result in results:\n",
    "            print(result)\n",
    "    except Error as e:\n",
    "        print(f\"Error in queries.py in get_tasks_qty_by_statuses: {e}\")\n",
    "    finally:\n",
    "        cur.close()\n",
    "    \n"
   ]
  },
  {
   "cell_type": "code",
   "execution_count": 16,
   "metadata": {},
   "outputs": [
    {
     "name": "stdout",
     "output_type": "stream",
     "text": [
      "[('completed', 9), ('in progress', 10), ('new', 11)]\n"
     ]
    }
   ],
   "source": [
    "# Отримати кількість завдань для кожного статусу. Використайте SELECT, COUNT, GROUP BY для групування завдань за статусами.\n",
    "with create_connection(database) as conn:                         \n",
    "    sql = \"SELECT s.name, COUNT(t.id) FROM tasks t JOIN status s ON t.status_id = s.id GROUP BY s.name;\"\n",
    "    cur = conn.cursor()\n",
    "    cur.execute(sql)            \n",
    "    print(cur.fetchall())"
   ]
  },
  {
   "cell_type": "code",
   "execution_count": 26,
   "metadata": {},
   "outputs": [
    {
     "name": "stdout",
     "output_type": "stream",
     "text": [
      "[(\"At Monday 9 O'Clock at monday 9 o'clock.\", ''), ('In This Month till the EOW.', '')]\n"
     ]
    }
   ],
   "source": [
    "# Отримати список завдань, що не мають опису. Виберіть завдання, у яких відсутній опис.\n",
    "with create_connection(database) as conn:                         \n",
    "    sql = \"SELECT t.title, t.description FROM tasks t WHERE t.description = '';\"\n",
    "    cur = conn.cursor()\n",
    "    cur.execute(sql)            \n",
    "    print(cur.fetchall())"
   ]
  },
  {
   "cell_type": "code",
   "execution_count": 18,
   "metadata": {},
   "outputs": [
    {
     "name": "stdout",
     "output_type": "stream",
     "text": [
      "[('in progress', 'Todo Task in this month.', 'Anthony Jones'), ('in progress', 'Create New Product gather information.', 'Anthony Jones'), ('in progress', 'Minimize Costs in 3 days.', 'Anthony Jones'), ('in progress', \"At Monday 9 O'Clock minimize costs.\", 'Anthony Jones'), ('in progress', \"Minimize Costs at monday 9 o'clock.\", 'William Adams'), ('in progress', 'Achieve A Mission minimize costs.', 'William Adams'), ('in progress', 'In 2 Hours achieve a mission.', 'Julie Blake'), ('in progress', 'In This Month achieve a mission.', 'Julie Blake'), ('in progress', 'Create New Product minimize costs.', 'Julie Blake'), ('in progress', 'Finish Project gather information.', 'Julie Blake')]\n"
     ]
    }
   ],
   "source": [
    "# Вибрати користувачів та їхні завдання, які є у статусі 'in progress'. \n",
    "#          Використайте INNER JOIN для отримання списку користувачів та їхніх завдань із певним статусом.\n",
    "with create_connection(database) as conn:                         \n",
    "    sql = \"SELECT s.name, t.title, u.fullname FROM tasks t JOIN status s ON t.status_id = s.id JOIN users u ON t.user_id = u.id WHERE s.name = ?;\"\n",
    "    cur = conn.cursor()\n",
    "    cur.execute(sql, (\"in progress\",))            \n",
    "    print(cur.fetchall())"
   ]
  },
  {
   "cell_type": "code",
   "execution_count": 30,
   "metadata": {},
   "outputs": [
    {
     "name": "stdout",
     "output_type": "stream",
     "text": [
      "--------------------------------\n",
      "| fullname       | COUNT(t.id) |\n",
      "--------------------------------\n",
      "| Alan Ellis     | 10          |\n",
      "| Brian Lawrence | 9           |\n",
      "| QQQ            | 0           |\n",
      "| QQWW           | 10          |\n",
      "\n"
     ]
    }
   ],
   "source": [
    "# Отримати користувачів та кількість їхніх завдань. \n",
    "#          Використайте LEFT JOIN та GROUP BY для вибору користувачів та підрахунку їхніх завдань.\n",
    "# Отримати список користувачів, які не мають жодного завдання. Використайте комбінацію SELECT, WHERE NOT IN і підзапит.\n",
    "\n",
    "with create_connection(database) as conn:                         \n",
    "    no_task = False\n",
    "    try:\n",
    "        cur = conn.cursor()\n",
    "        if no_task:\n",
    "            sql = \"SELECT u.fullname FROM users u WHERE u.id NOT IN (SELECT t.user_id FROM tasks t GROUP BY t.user_id)\"\n",
    "        else:\n",
    "            sql = \"SELECT u.fullname,COUNT(t.id) FROM users u LEFT JOIN tasks t ON t.user_id = u.id GROUP BY u.fullname;\"\n",
    "        cur.execute(sql)            \n",
    "        results = cur.fetchall()\n",
    "        description_list = [description[0] for description in cur.description]\n",
    "        message = make_table_from_list(description_list,results)\n",
    "    except Error as e:\n",
    "        message = f\"Error in queries.py in get_users_by_tasks: {e}\"\n",
    "    finally:\n",
    "        cur.close()\n",
    "    print(message)"
   ]
  },
  {
   "cell_type": "code",
   "execution_count": 20,
   "metadata": {},
   "outputs": [
    {
     "name": "stdout",
     "output_type": "stream",
     "text": [
      "[]\n"
     ]
    }
   ],
   "source": [
    "# Отримати список користувачів, які не мають жодного завдання. Використайте комбінацію SELECT, WHERE NOT IN і підзапит.\n",
    "with create_connection(database) as conn:                         \n",
    "    sql = \"SELECT u.fullname FROM users u WHERE u.id NOT IN (SELECT t.user_id FROM tasks t GROUP BY t.user_id)\"\n",
    "    cur = conn.cursor()\n",
    "    cur.execute(sql)            \n",
    "    print(cur.fetchall())"
   ]
  },
  {
   "cell_type": "code",
   "execution_count": 32,
   "metadata": {},
   "outputs": [
    {
     "name": "stdout",
     "output_type": "stream",
     "text": [
      "------------------------------------------------------------------------------------------\n",
      "| fullname   | email                          | title                                    |\n",
      "------------------------------------------------------------------------------------------\n",
      "| Alan Ellis | christophermorales@example.com | Create New Product till the EOW.         |\n",
      "| Alan Ellis | christophermorales@example.com | Achieve A Mission till the EOW.          |\n",
      "| Alan Ellis | christophermorales@example.com | Finish Project in this month.            |\n",
      "| Alan Ellis | christophermorales@example.com | Finish Job get the result.               |\n",
      "| Alan Ellis | christophermorales@example.com | Till The Eow in 2 hours.                 |\n",
      "| Alan Ellis | christophermorales@example.com | Achieve A Mission till the EOW.          |\n",
      "| Alan Ellis | christophermorales@example.com | Create New Product create new product.   |\n",
      "| Alan Ellis | christophermorales@example.com | In 2 Hours gather information.           |\n",
      "| Alan Ellis | christophermorales@example.com | In 2 Hours achieve a mission.            |\n",
      "| Alan Ellis | christophermorales@example.com | Todo Task minimize costs.                |\n",
      "| QQWW       | jonestyler@example.com         | Achieve A Mission minimize costs.        |\n",
      "| QQWW       | jonestyler@example.com         | Create New Product in 3 days.            |\n",
      "| QQWW       | jonestyler@example.com         | Todo Task in this month.                 |\n",
      "| QQWW       | jonestyler@example.com         | At Monday 9 O'Clock at monday 9 o'clock. |\n",
      "| QQWW       | jonestyler@example.com         | In This Month get the result.            |\n",
      "| QQWW       | jonestyler@example.com         | Achieve A Mission finish job.            |\n",
      "| QQWW       | jonestyler@example.com         | Get The Result gather information.       |\n",
      "| QQWW       | jonestyler@example.com         | Gather Information finish job.           |\n",
      "| QQWW       | jonestyler@example.com         | In 3 Days get the result.                |\n",
      "| QQWW       | jonestyler@example.com         | Finish Job in this month.                |\n",
      "\n"
     ]
    }
   ],
   "source": [
    "# Отримати завдання, які призначені користувачам з певною доменною частиною електронної пошти. \n",
    "#          Використайте SELECT з умовою LIKE в поєднанні з JOIN, щоб вибрати завдання, призначені користувачам, \n",
    "#          чия електронна пошта містить певний домен (наприклад, '%@example.com').\n",
    "with create_connection(database) as conn:                         \n",
    "    email_like = '%@example.com'\n",
    "    try:   \n",
    "        sql = \"SELECT u.fullname,u.email,t.title FROM tasks t JOIN users u ON t.user_id = u.id WHERE u.email LIKE ?;\"\n",
    "        cur = conn.cursor()\n",
    "        cur.execute(sql,(email_like,))            \n",
    "        results = cur.fetchall()\n",
    "        description_list = [description[0] for description in cur.description]\n",
    "        message = make_table_from_list(description_list,results)\n",
    "    except Error as e:\n",
    "        message = f\"Error in queries.py in get_users_by_mail: {e}\"\n",
    "    finally:\n",
    "        cur.close()\n",
    "    print(message)"
   ]
  },
  {
   "cell_type": "code",
   "execution_count": null,
   "metadata": {},
   "outputs": [],
   "source": [
    "# Оновити статус конкретного завдання. Змініть статус конкретного завдання на 'in progress' або інший статус.\n",
    "with create_connection(database) as conn:                         \n",
    "    sql = \"UPDATE tasks SET status_id = (select s.id FROM status s WHERE s.name =?) WHERE id = ?;\"\n",
    "    cur = conn.cursor()\n",
    "    cur.execute(sql,(\"new\",10))\n",
    "    conn.commit()\n",
    "    sql = \"Select * FROM tasks WHERE id = ?;\"\n",
    "    cur.execute(sql,(10,))\n",
    "    print(cur.fetchall())"
   ]
  },
  {
   "cell_type": "code",
   "execution_count": null,
   "metadata": {},
   "outputs": [],
   "source": [
    "# Додати нове завдання для конкретного користувача. Використайте INSERT для додавання нового завдання.\n",
    "with create_connection(database) as conn:                         \n",
    "    sql = \"\"\"INSERT INTO tasks (status_id,user_id,title,description) VALUES(?,?,?,?);\n",
    "    \"\"\"\n",
    "    cur = conn.cursor()\n",
    "    cur.execute(sql,(1,4,\"Do morning routine\", \"every day\"))\n",
    "    conn.commit()\n",
    "    \n",
    "    sql = \"Select * FROM tasks WHERE user_id = ?;\"\n",
    "    cur.execute(sql,(4,))\n",
    "    print(cur.fetchall())"
   ]
  },
  {
   "cell_type": "code",
   "execution_count": null,
   "metadata": {},
   "outputs": [],
   "source": [
    "# Видалити конкретне завдання. Використайте DELETE для видалення завдання за його id.\n",
    "with create_connection(database) as conn:                         \n",
    "    cur = conn.cursor()\n",
    "    sql = \"Select * FROM tasks WHERE id = ?;\"\n",
    "    cur.execute(sql,(24,))\n",
    "    print(cur.fetchall())\n",
    "\n",
    "    sql = \"\"\"DELETE FROM tasks WHERE id = ?;\n",
    "    \"\"\"\n",
    "    cur = conn.cursor()\n",
    "    cur.execute(sql,(24,))\n",
    "    conn.commit()\n",
    "\n",
    "    sql = \"Select * FROM tasks WHERE id = ?;\"\n",
    "    cur.execute(sql,(24,))\n",
    "    print(cur.fetchall())"
   ]
  },
  {
   "cell_type": "code",
   "execution_count": null,
   "metadata": {},
   "outputs": [],
   "source": [
    "# Оновити ім'я користувача. Змініть ім'я користувача за допомогою UPDATE.\n",
    "with create_connection(database) as conn:                         \n",
    "    sql = \"UPDATE users SET fullname = ? WHERE id = ?;\"\n",
    "    cur = conn.cursor()\n",
    "    cur.execute(sql,(\"Don Jow\",4))\n",
    "    conn.commit()\n",
    "    sql = \"Select * FROM users WHERE id =?\"\n",
    "    cur.execute(sql,(4,))\n",
    "    print(cur.fetchall())"
   ]
  },
  {
   "cell_type": "code",
   "execution_count": 25,
   "metadata": {},
   "outputs": [
    {
     "name": "stdout",
     "output_type": "stream",
     "text": [
      "False\n"
     ]
    }
   ],
   "source": [
    "print(bool(\"\"))"
   ]
  }
 ],
 "metadata": {
  "kernelspec": {
   "display_name": "Python 3",
   "language": "python",
   "name": "python3"
  },
  "language_info": {
   "codemirror_mode": {
    "name": "ipython",
    "version": 3
   },
   "file_extension": ".py",
   "mimetype": "text/x-python",
   "name": "python",
   "nbconvert_exporter": "python",
   "pygments_lexer": "ipython3",
   "version": "3.12.2"
  }
 },
 "nbformat": 4,
 "nbformat_minor": 2
}
